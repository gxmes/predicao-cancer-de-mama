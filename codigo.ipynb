{
 "cells": [
  {
   "attachments": {},
   "cell_type": "markdown",
   "metadata": {},
   "source": [
    "# Importação de bibliotecas"
   ]
  },
  {
   "cell_type": "code",
   "execution_count": 320,
   "metadata": {
    "tags": []
   },
   "outputs": [],
   "source": [
    "import matplotlib.pyplot as plt\n",
    "import numpy as np\n",
    "import pandas as pd\n",
    "import seaborn as sns\n",
    "import tensorflow as tf\n",
    "\n",
    "from sklearn.metrics import accuracy_score\n",
    "from sklearn.model_selection import cross_val_score, train_test_split\n",
    "from sklearn.neighbors import KNeighborsClassifier\n",
    "from sklearn.preprocessing import MinMaxScaler\n",
    "from tensorflow.keras.callbacks import EarlyStopping, ModelCheckpoint, LambdaCallback\n",
    "\n",
    "sns.set_style(\"whitegrid\")"
   ]
  },
  {
   "cell_type": "code",
   "execution_count": 321,
   "metadata": {
    "tags": []
   },
   "outputs": [],
   "source": [
    "SEED = 667430\n",
    "porcentagem = lambda x: f\"{round(x*100 if x <= 1 else x, 2)}%\""
   ]
  },
  {
   "attachments": {},
   "cell_type": "markdown",
   "metadata": {},
   "source": [
    "# Importação de dados"
   ]
  },
  {
   "cell_type": "code",
   "execution_count": 322,
   "metadata": {
    "tags": []
   },
   "outputs": [
    {
     "data": {
      "text/html": [
       "<div>\n",
       "<style scoped>\n",
       "    .dataframe tbody tr th:only-of-type {\n",
       "        vertical-align: middle;\n",
       "    }\n",
       "\n",
       "    .dataframe tbody tr th {\n",
       "        vertical-align: top;\n",
       "    }\n",
       "\n",
       "    .dataframe thead th {\n",
       "        text-align: right;\n",
       "    }\n",
       "</style>\n",
       "<table border=\"1\" class=\"dataframe\">\n",
       "  <thead>\n",
       "    <tr style=\"text-align: right;\">\n",
       "      <th></th>\n",
       "      <th>saida</th>\n",
       "      <th>idade</th>\n",
       "      <th>menopausa</th>\n",
       "      <th>tamanho_tumor</th>\n",
       "      <th>linfonodos</th>\n",
       "      <th>penetracao_linfonodo</th>\n",
       "      <th>grau_malignidade</th>\n",
       "      <th>seio</th>\n",
       "      <th>seio_quadrante</th>\n",
       "      <th>radioterapia</th>\n",
       "    </tr>\n",
       "  </thead>\n",
       "  <tbody>\n",
       "    <tr>\n",
       "      <th>0</th>\n",
       "      <td>no-recurrence-events</td>\n",
       "      <td>30-39</td>\n",
       "      <td>premeno</td>\n",
       "      <td>30-34</td>\n",
       "      <td>0-2</td>\n",
       "      <td>no</td>\n",
       "      <td>3</td>\n",
       "      <td>left</td>\n",
       "      <td>left_low</td>\n",
       "      <td>no</td>\n",
       "    </tr>\n",
       "    <tr>\n",
       "      <th>1</th>\n",
       "      <td>no-recurrence-events</td>\n",
       "      <td>40-49</td>\n",
       "      <td>premeno</td>\n",
       "      <td>20-24</td>\n",
       "      <td>0-2</td>\n",
       "      <td>no</td>\n",
       "      <td>2</td>\n",
       "      <td>right</td>\n",
       "      <td>right_up</td>\n",
       "      <td>no</td>\n",
       "    </tr>\n",
       "    <tr>\n",
       "      <th>2</th>\n",
       "      <td>no-recurrence-events</td>\n",
       "      <td>40-49</td>\n",
       "      <td>premeno</td>\n",
       "      <td>20-24</td>\n",
       "      <td>0-2</td>\n",
       "      <td>no</td>\n",
       "      <td>2</td>\n",
       "      <td>left</td>\n",
       "      <td>left_low</td>\n",
       "      <td>no</td>\n",
       "    </tr>\n",
       "  </tbody>\n",
       "</table>\n",
       "</div>"
      ],
      "text/plain": [
       "                  saida  idade menopausa tamanho_tumor linfonodos   \n",
       "0  no-recurrence-events  30-39   premeno         30-34        0-2  \\\n",
       "1  no-recurrence-events  40-49   premeno         20-24        0-2   \n",
       "2  no-recurrence-events  40-49   premeno         20-24        0-2   \n",
       "\n",
       "  penetracao_linfonodo  grau_malignidade   seio seio_quadrante radioterapia  \n",
       "0                   no                 3   left       left_low           no  \n",
       "1                   no                 2  right       right_up           no  \n",
       "2                   no                 2   left       left_low           no  "
      ]
     },
     "execution_count": 322,
     "metadata": {},
     "output_type": "execute_result"
    }
   ],
   "source": [
    "fonte = (\n",
    "    \"./dados/breast-cancer.data\"\n",
    "    or \"https://archive.ics.uci.edu/ml/machine-learning-databases/breast-cancer/breast-cancer.data\"\n",
    ")\n",
    "\n",
    "df = pd.read_csv(fonte, header=None)\n",
    "colunas = [\n",
    "    \"saida\",\n",
    "    \"idade\",\n",
    "    \"menopausa\",\n",
    "    \"tamanho_tumor\",\n",
    "    \"linfonodos\",\n",
    "    \"penetracao_linfonodo\",\n",
    "    \"grau_malignidade\",\n",
    "    \"seio\",\n",
    "    \"seio_quadrante\",\n",
    "    \"radioterapia\",\n",
    "]\n",
    "\n",
    "df.columns = colunas\n",
    "df.head(3)"
   ]
  },
  {
   "attachments": {},
   "cell_type": "markdown",
   "metadata": {},
   "source": [
    "# Exploração dos dados"
   ]
  },
  {
   "cell_type": "code",
   "execution_count": 323,
   "metadata": {
    "tags": []
   },
   "outputs": [
    {
     "data": {
      "text/plain": [
       "saida                   0\n",
       "idade                   0\n",
       "menopausa               0\n",
       "tamanho_tumor           0\n",
       "linfonodos              0\n",
       "penetracao_linfonodo    0\n",
       "grau_malignidade        0\n",
       "seio                    0\n",
       "seio_quadrante          0\n",
       "radioterapia            0\n",
       "dtype: int64"
      ]
     },
     "execution_count": 323,
     "metadata": {},
     "output_type": "execute_result"
    }
   ],
   "source": [
    "df.isnull().sum()"
   ]
  },
  {
   "cell_type": "code",
   "execution_count": 324,
   "metadata": {
    "tags": []
   },
   "outputs": [
    {
     "name": "stdout",
     "output_type": "stream",
     "text": [
      "<class 'pandas.core.frame.DataFrame'>\n",
      "RangeIndex: 286 entries, 0 to 285\n",
      "Data columns (total 10 columns):\n",
      " #   Column                Non-Null Count  Dtype \n",
      "---  ------                --------------  ----- \n",
      " 0   saida                 286 non-null    object\n",
      " 1   idade                 286 non-null    object\n",
      " 2   menopausa             286 non-null    object\n",
      " 3   tamanho_tumor         286 non-null    object\n",
      " 4   linfonodos            286 non-null    object\n",
      " 5   penetracao_linfonodo  286 non-null    object\n",
      " 6   grau_malignidade      286 non-null    int64 \n",
      " 7   seio                  286 non-null    object\n",
      " 8   seio_quadrante        286 non-null    object\n",
      " 9   radioterapia          286 non-null    object\n",
      "dtypes: int64(1), object(9)\n",
      "memory usage: 22.5+ KB\n"
     ]
    }
   ],
   "source": [
    "df.info()"
   ]
  },
  {
   "cell_type": "code",
   "execution_count": 325,
   "metadata": {
    "tags": []
   },
   "outputs": [
    {
     "data": {
      "text/plain": [
       "saida                    2\n",
       "idade                    6\n",
       "menopausa                3\n",
       "tamanho_tumor           11\n",
       "linfonodos               7\n",
       "penetracao_linfonodo     3\n",
       "grau_malignidade         3\n",
       "seio                     2\n",
       "seio_quadrante           6\n",
       "radioterapia             2\n",
       "dtype: int64"
      ]
     },
     "execution_count": 325,
     "metadata": {},
     "output_type": "execute_result"
    }
   ],
   "source": [
    "df.nunique()"
   ]
  },
  {
   "cell_type": "code",
   "execution_count": 326,
   "metadata": {},
   "outputs": [
    {
     "name": "stdout",
     "output_type": "stream",
     "text": [
      "saida ['no-recurrence-events' 'recurrence-events']\n",
      "idade ['30-39' '40-49' '60-69' '50-59' '70-79' '20-29']\n",
      "menopausa ['premeno' 'ge40' 'lt40']\n",
      "tamanho_tumor ['30-34' '20-24' '15-19' '0-4' '25-29' '50-54' '10-14' '40-44' '35-39'\n",
      " '5-9' '45-49']\n",
      "linfonodos ['0-2' '6-8' '9-11' '3-5' '15-17' '12-14' '24-26']\n",
      "penetracao_linfonodo ['no' 'yes' '?']\n",
      "grau_malignidade [3 2 1]\n",
      "seio ['left' 'right']\n",
      "seio_quadrante ['left_low' 'right_up' 'left_up' 'right_low' 'central' '?']\n",
      "radioterapia ['no' 'yes']\n"
     ]
    }
   ],
   "source": [
    "for column in df.columns:\n",
    "    print(column, df[column].unique())"
   ]
  },
  {
   "cell_type": "code",
   "execution_count": 327,
   "metadata": {},
   "outputs": [
    {
     "data": {
      "text/plain": [
       "8"
      ]
     },
     "execution_count": 327,
     "metadata": {},
     "output_type": "execute_result"
    }
   ],
   "source": [
    "df.penetracao_linfonodo[df.penetracao_linfonodo == '?'].count()"
   ]
  },
  {
   "cell_type": "code",
   "execution_count": 328,
   "metadata": {},
   "outputs": [
    {
     "data": {
      "text/plain": [
       "1"
      ]
     },
     "execution_count": 328,
     "metadata": {},
     "output_type": "execute_result"
    }
   ],
   "source": [
    "df.seio_quadrante[df.seio_quadrante == '?'].count()"
   ]
  },
  {
   "cell_type": "code",
   "execution_count": 329,
   "metadata": {},
   "outputs": [],
   "source": [
    "df = df.drop(df[df.penetracao_linfonodo == '?'].index)\n",
    "df = df.drop(df[df.seio_quadrante  == '?'].index)"
   ]
  },
  {
   "attachments": {},
   "cell_type": "markdown",
   "metadata": {},
   "source": [
    "# Limpeza de dados e modelagem do *dataset*"
   ]
  },
  {
   "attachments": {},
   "cell_type": "markdown",
   "metadata": {},
   "source": [
    "## Exclusão de colunas\n",
    "\n",
    "O seio e o seu quadrante nada importam para o modelo, pois anatomicamente ambos são praticamente identicos.\n",
    "\n",
    "Tal conclusão se baseia nos seguintes fatos:\n",
    "\n",
    "* Não foi encontrado nenhum artigo que explique uma suposta correlação entre o lado/quadrante do seio e o câncer de mama.\n",
    "\n",
    "* Apesar de existirem naturalmente algumas assimetrias nas mamas, elas são extremamente semelhantes e praticamente simétricas internamente, o que permite concluir que pouco importa qual mama foi afetada pelo câncer.\n",
    "\n",
    "Artigo sobre anatomia: \"Anatomy of the Breast\" - https://www.mskcc.org/cancer-care/types/breast/anatomy-breast"
   ]
  },
  {
   "attachments": {},
   "cell_type": "markdown",
   "metadata": {},
   "source": [
    "## Colunas mantidas\n",
    "\n",
    "As outras colunas foram mantidas e, portanto, estão embasadas pelos artigos abaixo:\n",
    "\n",
    "`idade`: \"Age and Cancer Risk\" - https://www.cancer.gov/about-cancer/causes-prevention/risk/age\n",
    "\n",
    "`menopausa`: \"Impact of menopausal status on risk of metastatic recurrence of\n",
    "breast cancer\" - https://www.breastcancerregister.org.nz/images/assets/3940/1/impact_of_menopausal_status_on_risk_of_metastatic.4.pdf \n",
    "\n",
    "`tamanho_tumor`: \"Tumor Size Still Impacts Prognosis in Breast Cancer With Extensive Nodal Involvement\" - https://www.frontiersin.org/articles/10.3389/fonc.2021.585613/full\n",
    "\n",
    "`linfonodos`: \"Impact of Number of Positive Lymph Nodes and Lymph Node Ratio on Survival of Women with Node-Positive Breast Cancer\" - https://www.ncbi.nlm.nih.gov/pmc/articles/PMC6456272/\n",
    "\n",
    "`penetracao_linfonodo`:\"Comparison of AJCC Anatomic and Clinical Prognostic Stage Groups in Breast Cancer: Analysis of 3322 Cases From a Single Institution\" - https://www.sciencedirect.com/science/article/abs/pii/S1526820918302301\n",
    "\n",
    "`grau_malignidade`: \"Prognosis in Carcinoma of the Breast\" - https://www.ncbi.nlm.nih.gov/pmc/articles/PMC2007665/pdf/brjcancer00404-0003.pdf\n",
    "\n",
    "`radioterapia`: \"Shorter Course of Radiation Is Effective, Safe for Some with Early-Stage Breast Cancer\" - https://www.cancer.gov/news-events/cancer-currents-blog/2022/early-breast-cancer-shorter-radiation-therapy"
   ]
  },
  {
   "cell_type": "code",
   "execution_count": 330,
   "metadata": {
    "tags": []
   },
   "outputs": [
    {
     "data": {
      "text/html": [
       "<div>\n",
       "<style scoped>\n",
       "    .dataframe tbody tr th:only-of-type {\n",
       "        vertical-align: middle;\n",
       "    }\n",
       "\n",
       "    .dataframe tbody tr th {\n",
       "        vertical-align: top;\n",
       "    }\n",
       "\n",
       "    .dataframe thead th {\n",
       "        text-align: right;\n",
       "    }\n",
       "</style>\n",
       "<table border=\"1\" class=\"dataframe\">\n",
       "  <thead>\n",
       "    <tr style=\"text-align: right;\">\n",
       "      <th></th>\n",
       "      <th>saida</th>\n",
       "      <th>idade</th>\n",
       "      <th>menopausa</th>\n",
       "      <th>tamanho_tumor</th>\n",
       "      <th>linfonodos</th>\n",
       "      <th>penetracao_linfonodo</th>\n",
       "      <th>grau_malignidade</th>\n",
       "      <th>radioterapia</th>\n",
       "    </tr>\n",
       "  </thead>\n",
       "  <tbody>\n",
       "    <tr>\n",
       "      <th>0</th>\n",
       "      <td>no-recurrence-events</td>\n",
       "      <td>30-39</td>\n",
       "      <td>premeno</td>\n",
       "      <td>30-34</td>\n",
       "      <td>0-2</td>\n",
       "      <td>no</td>\n",
       "      <td>3</td>\n",
       "      <td>no</td>\n",
       "    </tr>\n",
       "    <tr>\n",
       "      <th>1</th>\n",
       "      <td>no-recurrence-events</td>\n",
       "      <td>40-49</td>\n",
       "      <td>premeno</td>\n",
       "      <td>20-24</td>\n",
       "      <td>0-2</td>\n",
       "      <td>no</td>\n",
       "      <td>2</td>\n",
       "      <td>no</td>\n",
       "    </tr>\n",
       "    <tr>\n",
       "      <th>2</th>\n",
       "      <td>no-recurrence-events</td>\n",
       "      <td>40-49</td>\n",
       "      <td>premeno</td>\n",
       "      <td>20-24</td>\n",
       "      <td>0-2</td>\n",
       "      <td>no</td>\n",
       "      <td>2</td>\n",
       "      <td>no</td>\n",
       "    </tr>\n",
       "  </tbody>\n",
       "</table>\n",
       "</div>"
      ],
      "text/plain": [
       "                  saida  idade menopausa tamanho_tumor linfonodos   \n",
       "0  no-recurrence-events  30-39   premeno         30-34        0-2  \\\n",
       "1  no-recurrence-events  40-49   premeno         20-24        0-2   \n",
       "2  no-recurrence-events  40-49   premeno         20-24        0-2   \n",
       "\n",
       "  penetracao_linfonodo  grau_malignidade radioterapia  \n",
       "0                   no                 3           no  \n",
       "1                   no                 2           no  \n",
       "2                   no                 2           no  "
      ]
     },
     "execution_count": 330,
     "metadata": {},
     "output_type": "execute_result"
    }
   ],
   "source": [
    "df.drop(columns=[\"seio\", \"seio_quadrante\"], inplace=True)\n",
    "df.head(3)"
   ]
  },
  {
   "cell_type": "code",
   "execution_count": 331,
   "metadata": {
    "tags": []
   },
   "outputs": [],
   "source": [
    "filtro = lambda x: 0 if \"no\" in x else 1\n",
    "df.saida = df.saida.apply(filtro)\n",
    "df.penetracao_linfonodo = df.penetracao_linfonodo.apply(filtro)\n",
    "df.radioterapia = df.radioterapia.apply(filtro)"
   ]
  },
  {
   "cell_type": "code",
   "execution_count": 332,
   "metadata": {
    "tags": []
   },
   "outputs": [
    {
     "data": {
      "text/html": [
       "<div>\n",
       "<style scoped>\n",
       "    .dataframe tbody tr th:only-of-type {\n",
       "        vertical-align: middle;\n",
       "    }\n",
       "\n",
       "    .dataframe tbody tr th {\n",
       "        vertical-align: top;\n",
       "    }\n",
       "\n",
       "    .dataframe thead th {\n",
       "        text-align: right;\n",
       "    }\n",
       "</style>\n",
       "<table border=\"1\" class=\"dataframe\">\n",
       "  <thead>\n",
       "    <tr style=\"text-align: right;\">\n",
       "      <th></th>\n",
       "      <th>saida</th>\n",
       "      <th>idade</th>\n",
       "      <th>menopausa</th>\n",
       "      <th>tamanho_tumor</th>\n",
       "      <th>linfonodos</th>\n",
       "      <th>penetracao_linfonodo</th>\n",
       "      <th>grau_malignidade</th>\n",
       "      <th>radioterapia</th>\n",
       "    </tr>\n",
       "  </thead>\n",
       "  <tbody>\n",
       "    <tr>\n",
       "      <th>0</th>\n",
       "      <td>0</td>\n",
       "      <td>30-39</td>\n",
       "      <td>premeno</td>\n",
       "      <td>30-34</td>\n",
       "      <td>0-2</td>\n",
       "      <td>0</td>\n",
       "      <td>3</td>\n",
       "      <td>0</td>\n",
       "    </tr>\n",
       "    <tr>\n",
       "      <th>1</th>\n",
       "      <td>0</td>\n",
       "      <td>40-49</td>\n",
       "      <td>premeno</td>\n",
       "      <td>20-24</td>\n",
       "      <td>0-2</td>\n",
       "      <td>0</td>\n",
       "      <td>2</td>\n",
       "      <td>0</td>\n",
       "    </tr>\n",
       "    <tr>\n",
       "      <th>2</th>\n",
       "      <td>0</td>\n",
       "      <td>40-49</td>\n",
       "      <td>premeno</td>\n",
       "      <td>20-24</td>\n",
       "      <td>0-2</td>\n",
       "      <td>0</td>\n",
       "      <td>2</td>\n",
       "      <td>0</td>\n",
       "    </tr>\n",
       "  </tbody>\n",
       "</table>\n",
       "</div>"
      ],
      "text/plain": [
       "   saida  idade menopausa tamanho_tumor linfonodos  penetracao_linfonodo   \n",
       "0      0  30-39   premeno         30-34        0-2                     0  \\\n",
       "1      0  40-49   premeno         20-24        0-2                     0   \n",
       "2      0  40-49   premeno         20-24        0-2                     0   \n",
       "\n",
       "   grau_malignidade  radioterapia  \n",
       "0                 3             0  \n",
       "1                 2             0  \n",
       "2                 2             0  "
      ]
     },
     "execution_count": 332,
     "metadata": {},
     "output_type": "execute_result"
    }
   ],
   "source": [
    "df.head(3)"
   ]
  },
  {
   "cell_type": "code",
   "execution_count": 333,
   "metadata": {
    "tags": []
   },
   "outputs": [
    {
     "data": {
      "text/plain": [
       "27"
      ]
     },
     "execution_count": 333,
     "metadata": {},
     "output_type": "execute_result"
    }
   ],
   "source": [
    "colunas_descritivas = [\"idade\", \"menopausa\", \"tamanho_tumor\", \"linfonodos\"]\n",
    "df[colunas_descritivas].nunique().sum()"
   ]
  },
  {
   "attachments": {},
   "cell_type": "markdown",
   "metadata": {},
   "source": [
    "### Função para plotar gráficos de barras comparando colunas com e sem recorrências"
   ]
  },
  {
   "cell_type": "code",
   "execution_count": 334,
   "metadata": {
    "tags": []
   },
   "outputs": [],
   "source": [
    "def plotar_barras(coluna: str, titulo: str = None) -> None:\n",
    "    com_recorrencia = df[coluna].where(df.saida == 1).value_counts()\n",
    "    sem_recorrencia = df[coluna].where(df.saida == 0).value_counts()\n",
    "\n",
    "    plt.bar(sem_recorrencia.keys(), sem_recorrencia.values, color=\"green\", alpha=0.8)\n",
    "    plt.bar(com_recorrencia.keys(), com_recorrencia.values, color=\"red\", alpha=0.7)\n",
    "\n",
    "    if titulo:\n",
    "        plt.title(titulo)\n",
    "\n",
    "    plt.show()"
   ]
  },
  {
   "cell_type": "code",
   "execution_count": 335,
   "metadata": {
    "tags": []
   },
   "outputs": [
    {
     "data": {
      "image/png": "[encoded data removed]",
      "text/plain": [
       "<Figure size 640x480 with 1 Axes>"
      ]
     },
     "metadata": {},
     "output_type": "display_data"
    }
   ],
   "source": [
    "plotar_barras(\"tamanho_tumor\", \"Tamanho do tumor (mm)\")"
   ]
  },
  {
   "cell_type": "code",
   "execution_count": 336,
   "metadata": {
    "tags": []
   },
   "outputs": [
    {
     "data": {
      "image/png": "[encoded data removed]",
      "text/plain": [
       "<Figure size 640x480 with 1 Axes>"
      ]
     },
     "metadata": {},
     "output_type": "display_data"
    }
   ],
   "source": [
    "plotar_barras(\"menopausa\", \"Menopausa\")"
   ]
  },
  {
   "cell_type": "code",
   "execution_count": 337,
   "metadata": {
    "tags": []
   },
   "outputs": [
    {
     "data": {
      "image/png": "[encoded data removed]",
      "text/plain": [
       "<Figure size 640x480 with 1 Axes>"
      ]
     },
     "metadata": {},
     "output_type": "display_data"
    }
   ],
   "source": [
    "plotar_barras(\"linfonodos\", \"Número de linfonodos axilares\")"
   ]
  },
  {
   "cell_type": "code",
   "execution_count": 338,
   "metadata": {
    "tags": []
   },
   "outputs": [
    {
     "data": {
      "image/png": "[encoded data removed]",
      "text/plain": [
       "<Figure size 640x480 with 1 Axes>"
      ]
     },
     "metadata": {},
     "output_type": "display_data"
    }
   ],
   "source": [
    "plotar_barras(\"idade\", \"Idade\")"
   ]
  },
  {
   "attachments": {},
   "cell_type": "markdown",
   "metadata": {},
   "source": [
    "### Lidando com dados descritivos"
   ]
  },
  {
   "cell_type": "code",
   "execution_count": 339,
   "metadata": {
    "tags": []
   },
   "outputs": [
    {
     "data": {
      "text/html": [
       "<div>\n",
       "<style scoped>\n",
       "    .dataframe tbody tr th:only-of-type {\n",
       "        vertical-align: middle;\n",
       "    }\n",
       "\n",
       "    .dataframe tbody tr th {\n",
       "        vertical-align: top;\n",
       "    }\n",
       "\n",
       "    .dataframe thead th {\n",
       "        text-align: right;\n",
       "    }\n",
       "</style>\n",
       "<table border=\"1\" class=\"dataframe\">\n",
       "  <thead>\n",
       "    <tr style=\"text-align: right;\">\n",
       "      <th></th>\n",
       "      <th>saida</th>\n",
       "      <th>penetracao_linfonodo</th>\n",
       "      <th>grau_malignidade</th>\n",
       "      <th>radioterapia</th>\n",
       "      <th>idade_20-29</th>\n",
       "      <th>idade_30-39</th>\n",
       "      <th>idade_40-49</th>\n",
       "      <th>idade_50-59</th>\n",
       "      <th>idade_60-69</th>\n",
       "      <th>idade_70-79</th>\n",
       "      <th>...</th>\n",
       "      <th>tamanho_tumor_45-49</th>\n",
       "      <th>tamanho_tumor_5-9</th>\n",
       "      <th>tamanho_tumor_50-54</th>\n",
       "      <th>linfonodos_0-2</th>\n",
       "      <th>linfonodos_12-14</th>\n",
       "      <th>linfonodos_15-17</th>\n",
       "      <th>linfonodos_24-26</th>\n",
       "      <th>linfonodos_3-5</th>\n",
       "      <th>linfonodos_6-8</th>\n",
       "      <th>linfonodos_9-11</th>\n",
       "    </tr>\n",
       "  </thead>\n",
       "  <tbody>\n",
       "    <tr>\n",
       "      <th>0</th>\n",
       "      <td>0</td>\n",
       "      <td>0</td>\n",
       "      <td>3</td>\n",
       "      <td>0</td>\n",
       "      <td>0</td>\n",
       "      <td>1</td>\n",
       "      <td>0</td>\n",
       "      <td>0</td>\n",
       "      <td>0</td>\n",
       "      <td>0</td>\n",
       "      <td>...</td>\n",
       "      <td>0</td>\n",
       "      <td>0</td>\n",
       "      <td>0</td>\n",
       "      <td>1</td>\n",
       "      <td>0</td>\n",
       "      <td>0</td>\n",
       "      <td>0</td>\n",
       "      <td>0</td>\n",
       "      <td>0</td>\n",
       "      <td>0</td>\n",
       "    </tr>\n",
       "    <tr>\n",
       "      <th>1</th>\n",
       "      <td>0</td>\n",
       "      <td>0</td>\n",
       "      <td>2</td>\n",
       "      <td>0</td>\n",
       "      <td>0</td>\n",
       "      <td>0</td>\n",
       "      <td>1</td>\n",
       "      <td>0</td>\n",
       "      <td>0</td>\n",
       "      <td>0</td>\n",
       "      <td>...</td>\n",
       "      <td>0</td>\n",
       "      <td>0</td>\n",
       "      <td>0</td>\n",
       "      <td>1</td>\n",
       "      <td>0</td>\n",
       "      <td>0</td>\n",
       "      <td>0</td>\n",
       "      <td>0</td>\n",
       "      <td>0</td>\n",
       "      <td>0</td>\n",
       "    </tr>\n",
       "    <tr>\n",
       "      <th>2</th>\n",
       "      <td>0</td>\n",
       "      <td>0</td>\n",
       "      <td>2</td>\n",
       "      <td>0</td>\n",
       "      <td>0</td>\n",
       "      <td>0</td>\n",
       "      <td>1</td>\n",
       "      <td>0</td>\n",
       "      <td>0</td>\n",
       "      <td>0</td>\n",
       "      <td>...</td>\n",
       "      <td>0</td>\n",
       "      <td>0</td>\n",
       "      <td>0</td>\n",
       "      <td>1</td>\n",
       "      <td>0</td>\n",
       "      <td>0</td>\n",
       "      <td>0</td>\n",
       "      <td>0</td>\n",
       "      <td>0</td>\n",
       "      <td>0</td>\n",
       "    </tr>\n",
       "    <tr>\n",
       "      <th>3</th>\n",
       "      <td>0</td>\n",
       "      <td>0</td>\n",
       "      <td>2</td>\n",
       "      <td>0</td>\n",
       "      <td>0</td>\n",
       "      <td>0</td>\n",
       "      <td>0</td>\n",
       "      <td>0</td>\n",
       "      <td>1</td>\n",
       "      <td>0</td>\n",
       "      <td>...</td>\n",
       "      <td>0</td>\n",
       "      <td>0</td>\n",
       "      <td>0</td>\n",
       "      <td>1</td>\n",
       "      <td>0</td>\n",
       "      <td>0</td>\n",
       "      <td>0</td>\n",
       "      <td>0</td>\n",
       "      <td>0</td>\n",
       "      <td>0</td>\n",
       "    </tr>\n",
       "    <tr>\n",
       "      <th>4</th>\n",
       "      <td>0</td>\n",
       "      <td>0</td>\n",
       "      <td>2</td>\n",
       "      <td>0</td>\n",
       "      <td>0</td>\n",
       "      <td>0</td>\n",
       "      <td>1</td>\n",
       "      <td>0</td>\n",
       "      <td>0</td>\n",
       "      <td>0</td>\n",
       "      <td>...</td>\n",
       "      <td>0</td>\n",
       "      <td>0</td>\n",
       "      <td>0</td>\n",
       "      <td>1</td>\n",
       "      <td>0</td>\n",
       "      <td>0</td>\n",
       "      <td>0</td>\n",
       "      <td>0</td>\n",
       "      <td>0</td>\n",
       "      <td>0</td>\n",
       "    </tr>\n",
       "    <tr>\n",
       "      <th>...</th>\n",
       "      <td>...</td>\n",
       "      <td>...</td>\n",
       "      <td>...</td>\n",
       "      <td>...</td>\n",
       "      <td>...</td>\n",
       "      <td>...</td>\n",
       "      <td>...</td>\n",
       "      <td>...</td>\n",
       "      <td>...</td>\n",
       "      <td>...</td>\n",
       "      <td>...</td>\n",
       "      <td>...</td>\n",
       "      <td>...</td>\n",
       "      <td>...</td>\n",
       "      <td>...</td>\n",
       "      <td>...</td>\n",
       "      <td>...</td>\n",
       "      <td>...</td>\n",
       "      <td>...</td>\n",
       "      <td>...</td>\n",
       "      <td>...</td>\n",
       "    </tr>\n",
       "    <tr>\n",
       "      <th>281</th>\n",
       "      <td>1</td>\n",
       "      <td>0</td>\n",
       "      <td>2</td>\n",
       "      <td>0</td>\n",
       "      <td>0</td>\n",
       "      <td>1</td>\n",
       "      <td>0</td>\n",
       "      <td>0</td>\n",
       "      <td>0</td>\n",
       "      <td>0</td>\n",
       "      <td>...</td>\n",
       "      <td>0</td>\n",
       "      <td>0</td>\n",
       "      <td>0</td>\n",
       "      <td>1</td>\n",
       "      <td>0</td>\n",
       "      <td>0</td>\n",
       "      <td>0</td>\n",
       "      <td>0</td>\n",
       "      <td>0</td>\n",
       "      <td>0</td>\n",
       "    </tr>\n",
       "    <tr>\n",
       "      <th>282</th>\n",
       "      <td>1</td>\n",
       "      <td>0</td>\n",
       "      <td>3</td>\n",
       "      <td>1</td>\n",
       "      <td>0</td>\n",
       "      <td>1</td>\n",
       "      <td>0</td>\n",
       "      <td>0</td>\n",
       "      <td>0</td>\n",
       "      <td>0</td>\n",
       "      <td>...</td>\n",
       "      <td>0</td>\n",
       "      <td>0</td>\n",
       "      <td>0</td>\n",
       "      <td>1</td>\n",
       "      <td>0</td>\n",
       "      <td>0</td>\n",
       "      <td>0</td>\n",
       "      <td>0</td>\n",
       "      <td>0</td>\n",
       "      <td>0</td>\n",
       "    </tr>\n",
       "    <tr>\n",
       "      <th>283</th>\n",
       "      <td>1</td>\n",
       "      <td>0</td>\n",
       "      <td>1</td>\n",
       "      <td>0</td>\n",
       "      <td>0</td>\n",
       "      <td>0</td>\n",
       "      <td>0</td>\n",
       "      <td>0</td>\n",
       "      <td>1</td>\n",
       "      <td>0</td>\n",
       "      <td>...</td>\n",
       "      <td>0</td>\n",
       "      <td>0</td>\n",
       "      <td>0</td>\n",
       "      <td>1</td>\n",
       "      <td>0</td>\n",
       "      <td>0</td>\n",
       "      <td>0</td>\n",
       "      <td>0</td>\n",
       "      <td>0</td>\n",
       "      <td>0</td>\n",
       "    </tr>\n",
       "    <tr>\n",
       "      <th>284</th>\n",
       "      <td>1</td>\n",
       "      <td>0</td>\n",
       "      <td>3</td>\n",
       "      <td>0</td>\n",
       "      <td>0</td>\n",
       "      <td>0</td>\n",
       "      <td>1</td>\n",
       "      <td>0</td>\n",
       "      <td>0</td>\n",
       "      <td>0</td>\n",
       "      <td>...</td>\n",
       "      <td>0</td>\n",
       "      <td>0</td>\n",
       "      <td>0</td>\n",
       "      <td>0</td>\n",
       "      <td>0</td>\n",
       "      <td>0</td>\n",
       "      <td>0</td>\n",
       "      <td>1</td>\n",
       "      <td>0</td>\n",
       "      <td>0</td>\n",
       "    </tr>\n",
       "    <tr>\n",
       "      <th>285</th>\n",
       "      <td>1</td>\n",
       "      <td>0</td>\n",
       "      <td>3</td>\n",
       "      <td>0</td>\n",
       "      <td>0</td>\n",
       "      <td>0</td>\n",
       "      <td>0</td>\n",
       "      <td>1</td>\n",
       "      <td>0</td>\n",
       "      <td>0</td>\n",
       "      <td>...</td>\n",
       "      <td>0</td>\n",
       "      <td>0</td>\n",
       "      <td>0</td>\n",
       "      <td>0</td>\n",
       "      <td>0</td>\n",
       "      <td>0</td>\n",
       "      <td>0</td>\n",
       "      <td>1</td>\n",
       "      <td>0</td>\n",
       "      <td>0</td>\n",
       "    </tr>\n",
       "  </tbody>\n",
       "</table>\n",
       "<p>277 rows × 31 columns</p>\n",
       "</div>"
      ],
      "text/plain": [
       "     saida  penetracao_linfonodo  grau_malignidade  radioterapia  idade_20-29   \n",
       "0        0                     0                 3             0            0  \\\n",
       "1        0                     0                 2             0            0   \n",
       "2        0                     0                 2             0            0   \n",
       "3        0                     0                 2             0            0   \n",
       "4        0                     0                 2             0            0   \n",
       "..     ...                   ...               ...           ...          ...   \n",
       "281      1                     0                 2             0            0   \n",
       "282      1                     0                 3             1            0   \n",
       "283      1                     0                 1             0            0   \n",
       "284      1                     0                 3             0            0   \n",
       "285      1                     0                 3             0            0   \n",
       "\n",
       "     idade_30-39  idade_40-49  idade_50-59  idade_60-69  idade_70-79  ...   \n",
       "0              1            0            0            0            0  ...  \\\n",
       "1              0            1            0            0            0  ...   \n",
       "2              0            1            0            0            0  ...   \n",
       "3              0            0            0            1            0  ...   \n",
       "4              0            1            0            0            0  ...   \n",
       "..           ...          ...          ...          ...          ...  ...   \n",
       "281            1            0            0            0            0  ...   \n",
       "282            1            0            0            0            0  ...   \n",
       "283            0            0            0            1            0  ...   \n",
       "284            0            1            0            0            0  ...   \n",
       "285            0            0            1            0            0  ...   \n",
       "\n",
       "     tamanho_tumor_45-49  tamanho_tumor_5-9  tamanho_tumor_50-54   \n",
       "0                      0                  0                    0  \\\n",
       "1                      0                  0                    0   \n",
       "2                      0                  0                    0   \n",
       "3                      0                  0                    0   \n",
       "4                      0                  0                    0   \n",
       "..                   ...                ...                  ...   \n",
       "281                    0                  0                    0   \n",
       "282                    0                  0                    0   \n",
       "283                    0                  0                    0   \n",
       "284                    0                  0                    0   \n",
       "285                    0                  0                    0   \n",
       "\n",
       "     linfonodos_0-2  linfonodos_12-14  linfonodos_15-17  linfonodos_24-26   \n",
       "0                 1                 0                 0                 0  \\\n",
       "1                 1                 0                 0                 0   \n",
       "2                 1                 0                 0                 0   \n",
       "3                 1                 0                 0                 0   \n",
       "4                 1                 0                 0                 0   \n",
       "..              ...               ...               ...               ...   \n",
       "281               1                 0                 0                 0   \n",
       "282               1                 0                 0                 0   \n",
       "283               1                 0                 0                 0   \n",
       "284               0                 0                 0                 0   \n",
       "285               0                 0                 0                 0   \n",
       "\n",
       "     linfonodos_3-5  linfonodos_6-8  linfonodos_9-11  \n",
       "0                 0               0                0  \n",
       "1                 0               0                0  \n",
       "2                 0               0                0  \n",
       "3                 0               0                0  \n",
       "4                 0               0                0  \n",
       "..              ...             ...              ...  \n",
       "281               0               0                0  \n",
       "282               0               0                0  \n",
       "283               0               0                0  \n",
       "284               1               0                0  \n",
       "285               1               0                0  \n",
       "\n",
       "[277 rows x 31 columns]"
      ]
     },
     "execution_count": 339,
     "metadata": {},
     "output_type": "execute_result"
    }
   ],
   "source": [
    "df = pd.get_dummies(data=df, columns=colunas_descritivas)\n",
    "for column in df.columns:\n",
    "    df[column] = df[column].apply(lambda x: int(x) if type(x) == bool else x)\n",
    "df"
   ]
  },
  {
   "attachments": {},
   "cell_type": "markdown",
   "metadata": {},
   "source": [
    "# Padronização"
   ]
  },
  {
   "attachments": {},
   "cell_type": "markdown",
   "metadata": {},
   "source": [
    "A técnica de padronização Z-score foi escolhida para a coluna \"grau_malignidade\" porque a distribuição dos dados é equilibrada, com aproximadamente 45,45%, 29,72% e 24,83% dos casos correspondendo aos graus de malignidade 2, 3 e 1, respectivamente."
   ]
  },
  {
   "cell_type": "code",
   "execution_count": 340,
   "metadata": {
    "tags": []
   },
   "outputs": [
    {
     "data": {
      "text/html": [
       "<div>\n",
       "<style scoped>\n",
       "    .dataframe tbody tr th:only-of-type {\n",
       "        vertical-align: middle;\n",
       "    }\n",
       "\n",
       "    .dataframe tbody tr th {\n",
       "        vertical-align: top;\n",
       "    }\n",
       "\n",
       "    .dataframe thead th {\n",
       "        text-align: right;\n",
       "    }\n",
       "</style>\n",
       "<table border=\"1\" class=\"dataframe\">\n",
       "  <thead>\n",
       "    <tr style=\"text-align: right;\">\n",
       "      <th></th>\n",
       "      <th>saida</th>\n",
       "      <th>penetracao_linfonodo</th>\n",
       "      <th>grau_malignidade</th>\n",
       "      <th>radioterapia</th>\n",
       "      <th>idade_20-29</th>\n",
       "      <th>idade_30-39</th>\n",
       "      <th>idade_40-49</th>\n",
       "      <th>idade_50-59</th>\n",
       "      <th>idade_60-69</th>\n",
       "      <th>idade_70-79</th>\n",
       "      <th>...</th>\n",
       "      <th>tamanho_tumor_45-49</th>\n",
       "      <th>tamanho_tumor_5-9</th>\n",
       "      <th>tamanho_tumor_50-54</th>\n",
       "      <th>linfonodos_0-2</th>\n",
       "      <th>linfonodos_12-14</th>\n",
       "      <th>linfonodos_15-17</th>\n",
       "      <th>linfonodos_24-26</th>\n",
       "      <th>linfonodos_3-5</th>\n",
       "      <th>linfonodos_6-8</th>\n",
       "      <th>linfonodos_9-11</th>\n",
       "    </tr>\n",
       "  </thead>\n",
       "  <tbody>\n",
       "    <tr>\n",
       "      <th>0</th>\n",
       "      <td>0</td>\n",
       "      <td>0</td>\n",
       "      <td>1.290757</td>\n",
       "      <td>0</td>\n",
       "      <td>0</td>\n",
       "      <td>1</td>\n",
       "      <td>0</td>\n",
       "      <td>0</td>\n",
       "      <td>0</td>\n",
       "      <td>0</td>\n",
       "      <td>...</td>\n",
       "      <td>0</td>\n",
       "      <td>0</td>\n",
       "      <td>0</td>\n",
       "      <td>1</td>\n",
       "      <td>0</td>\n",
       "      <td>0</td>\n",
       "      <td>0</td>\n",
       "      <td>0</td>\n",
       "      <td>0</td>\n",
       "      <td>0</td>\n",
       "    </tr>\n",
       "    <tr>\n",
       "      <th>1</th>\n",
       "      <td>0</td>\n",
       "      <td>0</td>\n",
       "      <td>-0.079127</td>\n",
       "      <td>0</td>\n",
       "      <td>0</td>\n",
       "      <td>0</td>\n",
       "      <td>1</td>\n",
       "      <td>0</td>\n",
       "      <td>0</td>\n",
       "      <td>0</td>\n",
       "      <td>...</td>\n",
       "      <td>0</td>\n",
       "      <td>0</td>\n",
       "      <td>0</td>\n",
       "      <td>1</td>\n",
       "      <td>0</td>\n",
       "      <td>0</td>\n",
       "      <td>0</td>\n",
       "      <td>0</td>\n",
       "      <td>0</td>\n",
       "      <td>0</td>\n",
       "    </tr>\n",
       "    <tr>\n",
       "      <th>2</th>\n",
       "      <td>0</td>\n",
       "      <td>0</td>\n",
       "      <td>-0.079127</td>\n",
       "      <td>0</td>\n",
       "      <td>0</td>\n",
       "      <td>0</td>\n",
       "      <td>1</td>\n",
       "      <td>0</td>\n",
       "      <td>0</td>\n",
       "      <td>0</td>\n",
       "      <td>...</td>\n",
       "      <td>0</td>\n",
       "      <td>0</td>\n",
       "      <td>0</td>\n",
       "      <td>1</td>\n",
       "      <td>0</td>\n",
       "      <td>0</td>\n",
       "      <td>0</td>\n",
       "      <td>0</td>\n",
       "      <td>0</td>\n",
       "      <td>0</td>\n",
       "    </tr>\n",
       "  </tbody>\n",
       "</table>\n",
       "<p>3 rows × 31 columns</p>\n",
       "</div>"
      ],
      "text/plain": [
       "   saida  penetracao_linfonodo  grau_malignidade  radioterapia  idade_20-29   \n",
       "0      0                     0          1.290757             0            0  \\\n",
       "1      0                     0         -0.079127             0            0   \n",
       "2      0                     0         -0.079127             0            0   \n",
       "\n",
       "   idade_30-39  idade_40-49  idade_50-59  idade_60-69  idade_70-79  ...   \n",
       "0            1            0            0            0            0  ...  \\\n",
       "1            0            1            0            0            0  ...   \n",
       "2            0            1            0            0            0  ...   \n",
       "\n",
       "   tamanho_tumor_45-49  tamanho_tumor_5-9  tamanho_tumor_50-54   \n",
       "0                    0                  0                    0  \\\n",
       "1                    0                  0                    0   \n",
       "2                    0                  0                    0   \n",
       "\n",
       "   linfonodos_0-2  linfonodos_12-14  linfonodos_15-17  linfonodos_24-26   \n",
       "0               1                 0                 0                 0  \\\n",
       "1               1                 0                 0                 0   \n",
       "2               1                 0                 0                 0   \n",
       "\n",
       "   linfonodos_3-5  linfonodos_6-8  linfonodos_9-11  \n",
       "0               0               0                0  \n",
       "1               0               0                0  \n",
       "2               0               0                0  \n",
       "\n",
       "[3 rows x 31 columns]"
      ]
     },
     "execution_count": 340,
     "metadata": {},
     "output_type": "execute_result"
    }
   ],
   "source": [
    "media = df[\"grau_malignidade\"].mean()\n",
    "desvio = df[\"grau_malignidade\"].std()\n",
    "df[\"grau_malignidade\"] = df[\"grau_malignidade\"].apply(lambda x: (x - media) / desvio)\n",
    "df.head(3)"
   ]
  },
  {
   "attachments": {},
   "cell_type": "markdown",
   "metadata": {},
   "source": [
    "# Divisão de treino e teste"
   ]
  },
  {
   "cell_type": "code",
   "execution_count": 341,
   "metadata": {
    "tags": []
   },
   "outputs": [],
   "source": [
    "X = df.drop(columns=[\"saida\"])\n",
    "y = df.saida"
   ]
  },
  {
   "cell_type": "code",
   "execution_count": 342,
   "metadata": {
    "tags": []
   },
   "outputs": [],
   "source": [
    "X_train, X_test, y_train, y_test = train_test_split(\n",
    "    X, y, test_size=0.25, random_state=SEED\n",
    ")"
   ]
  },
  {
   "attachments": {},
   "cell_type": "markdown",
   "metadata": {},
   "source": [
    "# Execução do KNN"
   ]
  },
  {
   "attachments": {},
   "cell_type": "markdown",
   "metadata": {},
   "source": [
    "## Por que KNN?\n",
    "\n",
    "O KNN é um algoritmo de aprendizado **supervisionado** que requer a existência de classes pré-definidas.\n",
    "\n",
    "Como as classes já estão definidas esse algoritmo é a escolha mais elegante."
   ]
  },
  {
   "attachments": {},
   "cell_type": "markdown",
   "metadata": {},
   "source": [
    "Testando melhor número de vizinhos"
   ]
  },
  {
   "cell_type": "code",
   "execution_count": 343,
   "metadata": {
    "tags": []
   },
   "outputs": [
    {
     "name": "stdout",
     "output_type": "stream",
     "text": [
      "Melhor número de vizinhos: 15\n"
     ]
    }
   ],
   "source": [
    "vizinhos = list(range(1, 41))\n",
    "\n",
    "pontuacao = []\n",
    "\n",
    "for v in vizinhos:\n",
    "    knn = KNeighborsClassifier(n_neighbors=v)\n",
    "\n",
    "    # A escolha de 10 para a validação cruzada permite uma avaliação mais precisa do desempenho\n",
    "    # do modelo em dados não vistos e uma redução no risco de sobreajuste ao conjunto de treinamento.\n",
    "    pontos = cross_val_score(knn, X_train, y_train, cv=10, scoring=\"accuracy\")\n",
    "    pontuacao.append(pontos.mean())\n",
    "\n",
    "melhor_v = vizinhos[pontuacao.index(max(pontuacao))]\n",
    "\n",
    "print(f\"Melhor número de vizinhos: {melhor_v}\")"
   ]
  },
  {
   "cell_type": "code",
   "execution_count": 344,
   "metadata": {
    "tags": []
   },
   "outputs": [
    {
     "name": "stdout",
     "output_type": "stream",
     "text": [
      "Precisão do modelo: 80.0%\n"
     ]
    }
   ],
   "source": [
    "knn = KNeighborsClassifier(n_neighbors=melhor_v)\n",
    "\n",
    "knn.fit(X_train, y_train)\n",
    "y_pred = knn.predict(X_test)\n",
    "precisao_knn = accuracy_score(y_test, y_pred)\n",
    "print(f\"Precisão do modelo: {porcentagem(precisao_knn)}\")"
   ]
  },
  {
   "attachments": {},
   "cell_type": "markdown",
   "metadata": {},
   "source": [
    "# Execução da Rede Neural"
   ]
  },
  {
   "cell_type": "code",
   "execution_count": 345,
   "metadata": {
    "tags": []
   },
   "outputs": [
    {
     "name": "stdout",
     "output_type": "stream",
     "text": [
      "Número de entradas: 30, número de neurônios ocultos: 15 e número de saídas: 1\n"
     ]
    }
   ],
   "source": [
    "n_entradas = len(X.columns)\n",
    "n_saidas = 1  # 0 ou 1\n",
    "\n",
    "n_neuronios = int((n_entradas + n_saidas) / 2)\n",
    "\n",
    "print(\n",
    "    f\"Número de entradas: {n_entradas}, número de neurônios ocultos: {n_neuronios} e número de saídas: {n_saidas}\"\n",
    ")"
   ]
  },
  {
   "attachments": {},
   "cell_type": "markdown",
   "metadata": {},
   "source": [
    "## Número de camadas e quantidade de neurônios ocultos\n",
    "\n",
    "\n",
    "As quantidades foram baseadas nas formulas apresentadas pelo professor em sala de aula.\n",
    "\n",
    "### 1º Formula:\n",
    "\n",
    "$N_{neurônios} = \\frac{(n_{entrada} + n_{saida})}{2}$\n",
    "\n",
    "### 2º Formula:\n",
    "\n",
    "$N_{neurônios} = \\frac{2}{3} n_{entrada} + n_{saida}$\n",
    "\n",
    "### 3º Formula:\n",
    "\n",
    "$N_{neurônios}< 2 \\cdot n_{entrada}$\n",
    "\n",
    "A 1ª foi escolhida pois foi a mais precisa durante os testes."
   ]
  },
  {
   "attachments": {},
   "cell_type": "markdown",
   "metadata": {},
   "source": [
    "## Diagrama da rede neural\n",
    "\n",
    "![Rede neural com 7 entradas, com duas camadas de 4 neurônios e 1 saída.](./imagens/nn.svg)"
   ]
  },
  {
   "cell_type": "code",
   "execution_count": 346,
   "metadata": {
    "tags": []
   },
   "outputs": [],
   "source": [
    "model = tf.keras.models.Sequential(\n",
    "    [\n",
    "        tf.keras.layers.Dense(\n",
    "            n_neuronios, activation=\"relu\", input_shape=(n_entradas,)\n",
    "        ),\n",
    "        tf.keras.layers.Dense(\n",
    "            n_neuronios, activation=\"relu\"  # Função de ativação eficiênte\n",
    "        ),\n",
    "        tf.keras.layers.Dense(n_saidas, activation=\"sigmoid\"),  # Saída será 0 ou 1\n",
    "    ]\n",
    ")"
   ]
  },
  {
   "attachments": {},
   "cell_type": "markdown",
   "metadata": {},
   "source": [
    "Para após 20 perdas de validação seguidas e salva o melhor modelo após a execução da rede. "
   ]
  },
  {
   "cell_type": "code",
   "execution_count": 347,
   "metadata": {
    "tags": []
   },
   "outputs": [],
   "source": [
    "parada = EarlyStopping(monitor=\"val_loss\", patience=20)\n",
    "checkpoint = ModelCheckpoint(\n",
    "    filepath=\"./MelhorModelo.h5\", monitor=\"accuracy\", save_best_only=True\n",
    ")"
   ]
  },
  {
   "cell_type": "code",
   "execution_count": 348,
   "metadata": {
    "tags": []
   },
   "outputs": [],
   "source": [
    "# A função de custo utilizada foi a binary cross-entropy pois a saída sempre será 0 ou 1.\n",
    "# O algoritmo de otimização escolhido foi o Adam pois ele é eficiente com baixas quantidades de dados.\n",
    "\n",
    "model.compile(loss=\"binary_crossentropy\", optimizer=\"adam\", metrics=[\"accuracy\"])"
   ]
  },
  {
   "cell_type": "code",
   "execution_count": 349,
   "metadata": {
    "tags": []
   },
   "outputs": [],
   "source": [
    "def imprimir_epoca(epoca, logs):\n",
    "    print(\n",
    "        f\"Época {epoca} - perda de treinamento: {logs['loss']:.4f} - precisão de treinamento: {logs['accuracy']:.4f} - perda de validação: {logs['val_loss']:.4f} - precisão de validação: {logs['val_accuracy']:.4f}\",\n",
    "        end=\"\\r\",\n",
    "    )\n",
    "\n",
    "\n",
    "callbacks = [parada, checkpoint, LambdaCallback(on_epoch_end=imprimir_epoca)]"
   ]
  },
  {
   "attachments": {},
   "cell_type": "markdown",
   "metadata": {},
   "source": [
    "500 épocas devido a configuração de parada definida anteriormente."
   ]
  },
  {
   "cell_type": "code",
   "execution_count": 350,
   "metadata": {
    "tags": []
   },
   "outputs": [
    {
     "name": "stdout",
     "output_type": "stream",
     "text": [
      "Época 101 - perda de treinamento: 0.3487 - precisão de treinamento: 0.8551 - perda de validação: 0.4184 - precisão de validação: 0.8143\r"
     ]
    }
   ],
   "source": [
    "historico = model.fit(\n",
    "    X_train,\n",
    "    y_train,\n",
    "    epochs=500,\n",
    "    validation_data=(X_test, y_test),\n",
    "    use_multiprocessing=True,\n",
    "    callbacks=callbacks,\n",
    "    verbose=False,\n",
    ")"
   ]
  },
  {
   "cell_type": "code",
   "execution_count": 351,
   "metadata": {
    "tags": []
   },
   "outputs": [
    {
     "name": "stdout",
     "output_type": "stream",
     "text": [
      "3/3 [==============================] - 0s 1ms/step - loss: 0.4184 - accuracy: 0.8143\n",
      "Precisão: 81.43%\n"
     ]
    }
   ],
   "source": [
    "_, precisao_rede_neural = model.evaluate(X_test, y_test)\n",
    "print(f\"Precisão: {porcentagem(precisao_rede_neural)}\")"
   ]
  },
  {
   "attachments": {},
   "cell_type": "markdown",
   "metadata": {},
   "source": [
    "# Precisão"
   ]
  },
  {
   "cell_type": "code",
   "execution_count": 352,
   "metadata": {
    "tags": []
   },
   "outputs": [
    {
     "name": "stdout",
     "output_type": "stream",
     "text": [
      "Precisão do KNN: 80.0%, precisão da rede neural: 81.43%\n"
     ]
    }
   ],
   "source": [
    "print(\n",
    "    f\"Precisão do KNN: {porcentagem(precisao_knn)}, precisão da rede neural: {porcentagem(precisao_rede_neural)}\"\n",
    ")"
   ]
  },
  {
   "cell_type": "code",
   "execution_count": 353,
   "metadata": {
    "tags": []
   },
   "outputs": [
    {
     "data": {
      "text/html": [
       "<div>\n",
       "<style scoped>\n",
       "    .dataframe tbody tr th:only-of-type {\n",
       "        vertical-align: middle;\n",
       "    }\n",
       "\n",
       "    .dataframe tbody tr th {\n",
       "        vertical-align: top;\n",
       "    }\n",
       "\n",
       "    .dataframe thead th {\n",
       "        text-align: right;\n",
       "    }\n",
       "</style>\n",
       "<table border=\"1\" class=\"dataframe\">\n",
       "  <thead>\n",
       "    <tr style=\"text-align: right;\">\n",
       "      <th></th>\n",
       "      <th>loss</th>\n",
       "      <th>accuracy</th>\n",
       "      <th>val_loss</th>\n",
       "      <th>val_accuracy</th>\n",
       "    </tr>\n",
       "  </thead>\n",
       "  <tbody>\n",
       "    <tr>\n",
       "      <th>0</th>\n",
       "      <td>0.700508</td>\n",
       "      <td>0.492754</td>\n",
       "      <td>0.698094</td>\n",
       "      <td>0.428571</td>\n",
       "    </tr>\n",
       "    <tr>\n",
       "      <th>1</th>\n",
       "      <td>0.683898</td>\n",
       "      <td>0.565217</td>\n",
       "      <td>0.681086</td>\n",
       "      <td>0.571429</td>\n",
       "    </tr>\n",
       "    <tr>\n",
       "      <th>2</th>\n",
       "      <td>0.670375</td>\n",
       "      <td>0.647343</td>\n",
       "      <td>0.665517</td>\n",
       "      <td>0.585714</td>\n",
       "    </tr>\n",
       "    <tr>\n",
       "      <th>3</th>\n",
       "      <td>0.657632</td>\n",
       "      <td>0.695652</td>\n",
       "      <td>0.650911</td>\n",
       "      <td>0.700000</td>\n",
       "    </tr>\n",
       "    <tr>\n",
       "      <th>4</th>\n",
       "      <td>0.645457</td>\n",
       "      <td>0.714976</td>\n",
       "      <td>0.638151</td>\n",
       "      <td>0.728571</td>\n",
       "    </tr>\n",
       "    <tr>\n",
       "      <th>...</th>\n",
       "      <td>...</td>\n",
       "      <td>...</td>\n",
       "      <td>...</td>\n",
       "      <td>...</td>\n",
       "    </tr>\n",
       "    <tr>\n",
       "      <th>97</th>\n",
       "      <td>0.356287</td>\n",
       "      <td>0.855072</td>\n",
       "      <td>0.415380</td>\n",
       "      <td>0.828571</td>\n",
       "    </tr>\n",
       "    <tr>\n",
       "      <th>98</th>\n",
       "      <td>0.354338</td>\n",
       "      <td>0.855072</td>\n",
       "      <td>0.415259</td>\n",
       "      <td>0.828571</td>\n",
       "    </tr>\n",
       "    <tr>\n",
       "      <th>99</th>\n",
       "      <td>0.352224</td>\n",
       "      <td>0.855072</td>\n",
       "      <td>0.415759</td>\n",
       "      <td>0.828571</td>\n",
       "    </tr>\n",
       "    <tr>\n",
       "      <th>100</th>\n",
       "      <td>0.349755</td>\n",
       "      <td>0.850242</td>\n",
       "      <td>0.416715</td>\n",
       "      <td>0.828571</td>\n",
       "    </tr>\n",
       "    <tr>\n",
       "      <th>101</th>\n",
       "      <td>0.348678</td>\n",
       "      <td>0.855072</td>\n",
       "      <td>0.418434</td>\n",
       "      <td>0.814286</td>\n",
       "    </tr>\n",
       "  </tbody>\n",
       "</table>\n",
       "<p>102 rows × 4 columns</p>\n",
       "</div>"
      ],
      "text/plain": [
       "         loss  accuracy  val_loss  val_accuracy\n",
       "0    0.700508  0.492754  0.698094      0.428571\n",
       "1    0.683898  0.565217  0.681086      0.571429\n",
       "2    0.670375  0.647343  0.665517      0.585714\n",
       "3    0.657632  0.695652  0.650911      0.700000\n",
       "4    0.645457  0.714976  0.638151      0.728571\n",
       "..        ...       ...       ...           ...\n",
       "97   0.356287  0.855072  0.415380      0.828571\n",
       "98   0.354338  0.855072  0.415259      0.828571\n",
       "99   0.352224  0.855072  0.415759      0.828571\n",
       "100  0.349755  0.850242  0.416715      0.828571\n",
       "101  0.348678  0.855072  0.418434      0.814286\n",
       "\n",
       "[102 rows x 4 columns]"
      ]
     },
     "execution_count": 353,
     "metadata": {},
     "output_type": "execute_result"
    }
   ],
   "source": [
    "pd.DataFrame(historico.history)"
   ]
  }
 ],
 "metadata": {
  "kernelspec": {
   "display_name": "Python 3 (ipykernel)",
   "language": "python",
   "name": "python3"
  },
  "language_info": {
   "codemirror_mode": {
    "name": "ipython",
    "version": 3
   },
   "file_extension": ".py",
   "mimetype": "text/x-python",
   "name": "python",
   "nbconvert_exporter": "python",
   "pygments_lexer": "ipython3",
   "version": "3.11.3"
  },
  "toc-showmarkdowntxt": false,
  "vscode": {
   "interpreter": {
    "hash": "ad2bdc8ecc057115af97d19610ffacc2b4e99fae6737bb82f5d7fb13d2f2c186"
   }
  }
 },
 "nbformat": 4,
 "nbformat_minor": 4
}
